{
 "cells": [
  {
   "cell_type": "code",
   "execution_count": 1,
   "metadata": {},
   "outputs": [],
   "source": [
    "import fileIO\n",
    "import splice_files\n",
    "import validate_timestamps\n",
    "import coordinate_utilities\n",
    "import time_utilities\n",
    "\n",
    "from numpy import linspace\n",
    "from math import ceil"
   ]
  },
  {
   "cell_type": "code",
   "execution_count": 4,
   "metadata": {},
   "outputs": [],
   "source": [
    "# enter name and directory of input file\n",
    "input_filename1  = 'workingDir/loterie_fixed.gpx'\n",
    "input_filename2  = 'workingDir/beep2.gpx'\n",
    "\n",
    "# select data fields to import\n",
    "data_flags1 = {\n",
    "    'gpsflag':  True,\n",
    "    'timeflag': True,\n",
    "    'eleflag':  True,\n",
    "    'hrflag':   True, \n",
    "    'cadflag':  False, \n",
    "    'pwrflag':  False \n",
    "}\n",
    "data_flags2 = {\n",
    "    'gpsflag':  True,\n",
    "    'timeflag': False,\n",
    "    'eleflag':  True,\n",
    "    'hrflag':   False, \n",
    "    'cadflag':  False, \n",
    "    'pwrflag':  False \n",
    "}"
   ]
  },
  {
   "cell_type": "code",
   "execution_count": 5,
   "metadata": {},
   "outputs": [
    {
     "name": "stdout",
     "output_type": "stream",
     "text": [
      "15027 points imported from workingDir/loterie_fixed.gpx.\n",
      "81 points imported from workingDir/beep2.gpx.\n"
     ]
    }
   ],
   "source": [
    "trkptlist1, meta_data1 = fileIO.import_trackpoints(data_flags1, input_filename1,skip_metadata=True)\n",
    "trkptlist2, meta_data2 = fileIO.import_trackpoints(data_flags2, input_filename2,skip_metadata=True)"
   ]
  },
  {
   "cell_type": "code",
   "execution_count": 6,
   "metadata": {},
   "outputs": [],
   "source": [
    "trkptlist2 = trkptlist2[64:]"
   ]
  },
  {
   "cell_type": "code",
   "execution_count": 7,
   "metadata": {},
   "outputs": [
    {
     "data": {
      "text/plain": [
       "502.03788725127714"
      ]
     },
     "execution_count": 7,
     "metadata": {},
     "output_type": "execute_result"
    }
   ],
   "source": [
    "coordinate_utilities.compute_total_distance(trkptlist2)"
   ]
  },
  {
   "attachments": {},
   "cell_type": "markdown",
   "metadata": {},
   "source": [
    "From looking at the GPS gap in the broken file, we got the timestamps ('20:43:00', '20:51:28'). Since the watch was paused for a few minutes, I choose the earlier timestamp to be later. ~500m should be around 3 min."
   ]
  },
  {
   "cell_type": "code",
   "execution_count": 9,
   "metadata": {},
   "outputs": [
    {
     "name": "stdout",
     "output_type": "stream",
     "text": [
      "159\n"
     ]
    }
   ],
   "source": [
    "ts1 = {'year': 2023, 'month': 12, 'day': 21, 'hour': 20, 'minute': 48, 'second': 50}\n",
    "ts2 = {'year': 2023, 'month': 12, 'day': 21, 'hour': 20, 'minute': 51, 'second': 28}\n",
    "gap_timestamps = time_utilities.generate_timepoints(ts1,ts2)\n",
    "# print(gap_timestamps)\n",
    "print(len(gap_timestamps))"
   ]
  },
  {
   "attachments": {},
   "cell_type": "markdown",
   "metadata": {},
   "source": [
    "Now define how many points need to be added between each node with N based on the number of timestamps."
   ]
  },
  {
   "cell_type": "code",
   "execution_count": 21,
   "metadata": {},
   "outputs": [
    {
     "name": "stdout",
     "output_type": "stream",
     "text": [
      "Original number of points: 17, new number of points: 157.\n",
      "Original distance: 502.03788725127714, new distance: 502.0378872514009.\n"
     ]
    }
   ],
   "source": [
    "trkptlist2_dense = coordinate_utilities.add_interpolated_points(trkptlist2,data_flags2,N=155)"
   ]
  },
  {
   "attachments": {},
   "cell_type": "markdown",
   "metadata": {},
   "source": [
    "Interpolated points are successfully added when the distance is preserved but the length has increased."
   ]
  },
  {
   "attachments": {},
   "cell_type": "markdown",
   "metadata": {},
   "source": [
    "Generate timestamps for the missing GPX coordinates"
   ]
  },
  {
   "attachments": {},
   "cell_type": "markdown",
   "metadata": {},
   "source": [
    "Before splicing the files, let's fix the timestamps."
   ]
  },
  {
   "cell_type": "code",
   "execution_count": 22,
   "metadata": {},
   "outputs": [
    {
     "name": "stdout",
     "output_type": "stream",
     "text": [
      "Matching 159 timestamps to 157 GPS points.\n",
      "Timestamp start: 2023-12-21T20:48:50\n",
      "Timestamp end:   2023-12-21T20:51:27          \n",
      "\n",
      "Fail: 0, Success: 156\n"
     ]
    }
   ],
   "source": [
    "trkptlist2_dense = time_utilities.add_non_dummy_times(trkptlist2_dense,gap_timestamps)\n",
    "validate_timestamps.compare_trkpt(trkptlist2_dense)"
   ]
  },
  {
   "cell_type": "code",
   "execution_count": 23,
   "metadata": {},
   "outputs": [],
   "source": [
    "# one last check:\n",
    "for trkpt  in trkptlist2_dense:\n",
    "    if trkpt.hr == None:\n",
    "       trkpt.hr = 0 "
   ]
  },
  {
   "attachments": {},
   "cell_type": "markdown",
   "metadata": {},
   "source": [
    "Export the file:"
   ]
  },
  {
   "cell_type": "code",
   "execution_count": 24,
   "metadata": {},
   "outputs": [
    {
     "name": "stdout",
     "output_type": "stream",
     "text": [
      "Exporting file...\n",
      "File exported to outputDir/garbagio2.gpx\n"
     ]
    }
   ],
   "source": [
    "data_flags3 = {\n",
    "    'gpsflag':  True,\n",
    "    'timeflag': True,\n",
    "    'eleflag':  True,\n",
    "    'hrflag':   True, \n",
    "    'cadflag':  False, \n",
    "    'pwrflag':  False \n",
    "}\n",
    "output_filename = \"outputDir/garbagio2.gpx\"\n",
    "fileIO.export_trackpoints(data_flags3, trkptlist2_dense, output_filename)"
   ]
  },
  {
   "cell_type": "code",
   "execution_count": null,
   "metadata": {},
   "outputs": [],
   "source": []
  }
 ],
 "metadata": {
  "kernelspec": {
   "display_name": "Python 3",
   "language": "python",
   "name": "python3"
  },
  "language_info": {
   "codemirror_mode": {
    "name": "ipython",
    "version": 3
   },
   "file_extension": ".py",
   "mimetype": "text/x-python",
   "name": "python",
   "nbconvert_exporter": "python",
   "pygments_lexer": "ipython3",
   "version": "3.11.6"
  },
  "orig_nbformat": 4
 },
 "nbformat": 4,
 "nbformat_minor": 2
}
