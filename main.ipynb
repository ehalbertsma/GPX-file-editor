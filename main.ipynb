{
 "cells": [
  {
   "cell_type": "code",
   "execution_count": 1,
   "metadata": {},
   "outputs": [],
   "source": [
    "import fileIO\n",
    "import splice_files\n",
    "import validate_timestamps\n",
    "import coordinate_utilities\n",
    "import time_utilities"
   ]
  },
  {
   "cell_type": "code",
   "execution_count": 34,
   "metadata": {},
   "outputs": [],
   "source": [
    "# enter name and directory of input file\n",
    "input_filename1  = 'workingDir/loterie_fixed.gpx'\n",
    "# input_filename2  = 'workingDir/beep2.gpx'\n",
    "input_filename2  = 'outputDir/garbagio2.gpx'\n",
    "\n",
    "output_filename1 = 'outputDir/fixed.gpx'\n",
    "\n",
    "# select data fields to import\n",
    "data_flags1 = {\n",
    "    'gpsflag':  True,\n",
    "    'timeflag': True,\n",
    "    'eleflag':  True,\n",
    "    'hrflag':   True, \n",
    "    'cadflag':  False, \n",
    "    'pwrflag':  False \n",
    "}\n",
    "data_flags2 = {\n",
    "    'gpsflag':  True,\n",
    "    'timeflag': True,\n",
    "    'eleflag':  True,\n",
    "    'hrflag':   True, \n",
    "    'cadflag':  False, \n",
    "    'pwrflag':  False \n",
    "}"
   ]
  },
  {
   "cell_type": "code",
   "execution_count": 45,
   "metadata": {},
   "outputs": [],
   "source": [
    "# enter name and directory of input file\n",
    "input_filename1  = 'outputDir/fixed.gpx'\n",
    "# input_filename2  = 'workingDir/beep2.gpx'\n",
    "input_filename2  = 'outputDir/garbagio2.gpx'\n",
    "\n",
    "output_filename1 = 'outputDir/fixed.gpx'\n",
    "\n",
    "# select data fields to import\n",
    "data_flags1 = {\n",
    "    'gpsflag':  True,\n",
    "    'timeflag': True,\n",
    "    'eleflag':  True,\n",
    "    'hrflag':   True, \n",
    "    'cadflag':  False, \n",
    "    'pwrflag':  False \n",
    "}\n",
    "data_flags2 = {\n",
    "    'gpsflag':  True,\n",
    "    'timeflag': True,\n",
    "    'eleflag':  True,\n",
    "    'hrflag':   True, \n",
    "    'cadflag':  False, \n",
    "    'pwrflag':  False \n",
    "}"
   ]
  },
  {
   "cell_type": "code",
   "execution_count": 46,
   "metadata": {},
   "outputs": [
    {
     "name": "stdout",
     "output_type": "stream",
     "text": [
      "15182 points imported from outputDir/fixed.gpx.\n",
      "157 points imported from outputDir/garbagio2.gpx.\n"
     ]
    }
   ],
   "source": [
    "trkptlist1, meta_data1 = fileIO.import_trackpoints(data_flags1, input_filename1,skip_metadata=True)\n",
    "trkptlist2, meta_data2 = fileIO.import_trackpoints(data_flags2, input_filename2,skip_metadata=True)"
   ]
  },
  {
   "cell_type": "code",
   "execution_count": 47,
   "metadata": {},
   "outputs": [
    {
     "name": "stdout",
     "output_type": "stream",
     "text": [
      "15182 points imported from outputDir/fixed.gpx.\n"
     ]
    }
   ],
   "source": [
    "trkptlist1, meta_data1 = fileIO.import_trackpoints(data_flags1, input_filename1,skip_metadata=True)\n",
    "# trkptlist2, meta_data2 = fileIO.import_trackpoints(data_flags2, input_filename2,skip_metadata=True)"
   ]
  },
  {
   "attachments": {},
   "cell_type": "markdown",
   "metadata": {},
   "source": [
    "Generate timestamps for the missing GPX coordinates"
   ]
  },
  {
   "cell_type": "code",
   "execution_count": 48,
   "metadata": {},
   "outputs": [
    {
     "name": "stdout",
     "output_type": "stream",
     "text": [
      "outputDir/fixed.gpx gap: ('20:43:00', '20:51:28')\n"
     ]
    }
   ],
   "source": [
    "gap_times = coordinate_utilities.find_gap(trkptlist=trkptlist1[:13295], mode=1)\n",
    "print(f\"{input_filename1} gap: {gap_times}\")"
   ]
  },
  {
   "attachments": {},
   "cell_type": "markdown",
   "metadata": {},
   "source": [
    "Check if the timestamps in my gpx log got messed up from the change in timezone:"
   ]
  },
  {
   "cell_type": "code",
   "execution_count": 37,
   "metadata": {},
   "outputs": [
    {
     "name": "stdout",
     "output_type": "stream",
     "text": [
      "Fail: 0, Success: 15026\n"
     ]
    }
   ],
   "source": [
    "validate_timestamps.compare_trkpt(trkptlist1,verbose=False)"
   ]
  },
  {
   "attachments": {},
   "cell_type": "markdown",
   "metadata": {},
   "source": [
    "Now we want to identify the gap between Chewbacca rock and the Lottery Farm. This involves finding the index in trkptlist1 where the watch was paused and then unpaused."
   ]
  },
  {
   "cell_type": "code",
   "execution_count": 38,
   "metadata": {},
   "outputs": [
    {
     "name": "stdout",
     "output_type": "stream",
     "text": [
      "workingDir/loterie_fixed.gpx gap: ('20:43:00', '20:51:28')\n",
      "workingDir/loterie_fixed.gpx gap: ((18.07752, -63.070162), (18.080672, -63.071103))\n"
     ]
    }
   ],
   "source": [
    "gap_times = coordinate_utilities.find_gap(trkptlist=trkptlist1[:13295], mode=1)\n",
    "print(f\"{input_filename1} gap: {gap_times}\")\n",
    "out1 = coordinate_utilities.find_gap(trkptlist=trkptlist1[:13295], mode=2)\n",
    "print(f\"{input_filename1} gap: {out1}\")"
   ]
  },
  {
   "attachments": {},
   "cell_type": "markdown",
   "metadata": {},
   "source": [
    "Now find the point in trkptlist2 which is the closest to where the watch was unpaused (i.e. the unpausing timestamp in trkptlist1)"
   ]
  },
  {
   "cell_type": "code",
   "execution_count": 39,
   "metadata": {},
   "outputs": [
    {
     "name": "stdout",
     "output_type": "stream",
     "text": [
      "Index of unpausing in trkptlist1:  12364\n"
     ]
    }
   ],
   "source": [
    "ts = {'year': 2023, 'month': 12, 'day': 21, 'hour': 20, 'minute': 43, 'second': 00}\n",
    "index = splice_files.get_trackpoint_index_by_time(trkptlist1, ts) # this is the index of the gap of the lottery farm\n",
    "print(\"Index of unpausing in trkptlist1: \",index)"
   ]
  },
  {
   "cell_type": "code",
   "execution_count": 40,
   "metadata": {},
   "outputs": [
    {
     "name": "stdout",
     "output_type": "stream",
     "text": [
      "Finding closest point to:  (18.07752,-63.070162)...\n",
      "Closest point in the list: (18.07728,-63.0698) at index=0\n"
     ]
    }
   ],
   "source": [
    "# now find the point in trkptlist2 closest to the lottery farm\n",
    "out = coordinate_utilities.find_closest(trkptlist1[index],trkptlist2)\n",
    "\n",
    "trkptlist1_index = index # chebacca rock summit\n",
    "trkptlist2_index_start = 0 # chebacca rock summit\n",
    "trkptlist2_index_finish = out-1 #lottery farm"
   ]
  },
  {
   "attachments": {},
   "cell_type": "markdown",
   "metadata": {},
   "source": [
    "Splicing the files:"
   ]
  },
  {
   "cell_type": "code",
   "execution_count": 41,
   "metadata": {},
   "outputs": [],
   "source": [
    "trkptlist3 = splice_files.fix_pause_by_index(trkptlist1, trkptlist2, trkptlist1_index, trkptlist2_index_start, trkptlist2_index_finish)"
   ]
  },
  {
   "attachments": {},
   "cell_type": "markdown",
   "metadata": {},
   "source": [
    "Export the file:"
   ]
  },
  {
   "cell_type": "code",
   "execution_count": 42,
   "metadata": {},
   "outputs": [
    {
     "name": "stdout",
     "output_type": "stream",
     "text": [
      "Exporting file...\n",
      "File exported to outputDir/fixed.gpx\n"
     ]
    }
   ],
   "source": [
    "data_flags3 = {\n",
    "    'gpsflag':  True,\n",
    "    'timeflag': True,\n",
    "    'eleflag':  True,\n",
    "    'hrflag':   True, \n",
    "    'cadflag':  False, \n",
    "    'pwrflag':  False \n",
    "}\n",
    "fileIO.export_trackpoints(data_flags3, trkptlist3, output_filename1)"
   ]
  },
  {
   "cell_type": "code",
   "execution_count": null,
   "metadata": {},
   "outputs": [],
   "source": []
  }
 ],
 "metadata": {
  "kernelspec": {
   "display_name": "Python 3",
   "language": "python",
   "name": "python3"
  },
  "language_info": {
   "codemirror_mode": {
    "name": "ipython",
    "version": 3
   },
   "file_extension": ".py",
   "mimetype": "text/x-python",
   "name": "python",
   "nbconvert_exporter": "python",
   "pygments_lexer": "ipython3",
   "version": "3.11.6"
  },
  "orig_nbformat": 4
 },
 "nbformat": 4,
 "nbformat_minor": 2
}
