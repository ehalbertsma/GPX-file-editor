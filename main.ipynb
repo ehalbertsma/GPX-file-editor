{
 "cells": [
  {
   "cell_type": "code",
   "execution_count": 1,
   "metadata": {},
   "outputs": [],
   "source": [
    "import fileIO\n",
    "import splice_files\n",
    "import validate_timestamps\n",
    "import coordinate_utilities\n",
    "import time_utilities"
   ]
  },
  {
   "cell_type": "code",
   "execution_count": 6,
   "metadata": {},
   "outputs": [],
   "source": [
    "# enter name and directory of input file\n",
    "# input_filename1  = 'ouutDir/fixed.gpx'\n",
    "input_filename1  = 'workingDir/Evening_Run-3.gpx'\n",
    "input_filename2  = 'outputDir/garbagio.gpx'\n",
    "\n",
    "output_filename1 = 'outputDir/fixed.gpx'\n",
    "\n",
    "# select data fields to import\n",
    "data_flags1 = {\n",
    "    'gpsflag':  True,\n",
    "    'timeflag': True,\n",
    "    'eleflag':  True,\n",
    "    'hrflag':   True, \n",
    "    'cadflag':  True, \n",
    "    'pwrflag':  False \n",
    "}\n",
    "data_flags2 = {\n",
    "    'gpsflag':  True,\n",
    "    'timeflag': True,\n",
    "    'eleflag':  True,\n",
    "    'hrflag':   True, \n",
    "    'cadflag':  False, \n",
    "    'pwrflag':  False \n",
    "}"
   ]
  },
  {
   "cell_type": "code",
   "execution_count": 7,
   "metadata": {},
   "outputs": [
    {
     "name": "stdout",
     "output_type": "stream",
     "text": [
      "4709 points imported from workingDir/Evening_Run-3.gpx.\n",
      "401 points imported from outputDir/garbagio.gpx.\n"
     ]
    }
   ],
   "source": [
    "trkptlist1, meta_data1 = fileIO.import_trackpoints(data_flags1, input_filename1)\n",
    "trkptlist2, meta_data2 = fileIO.import_trackpoints(data_flags2, input_filename2)"
   ]
  },
  {
   "attachments": {},
   "cell_type": "markdown",
   "metadata": {},
   "source": [
    "Generate timestamps for the missing GPX coordinates"
   ]
  },
  {
   "cell_type": "code",
   "execution_count": 8,
   "metadata": {},
   "outputs": [
    {
     "name": "stdout",
     "output_type": "stream",
     "text": [
      "workingDir/Evening_Run-3.gpx gap: ('2024-01-28T20:42:29Z', '2024-01-28T20:49:50Z')\n"
     ]
    }
   ],
   "source": [
    "gap_times = coordinate_utilities.find_gap(trkptlist=trkptlist1, mode=1)\n",
    "print(f\"{input_filename1} gap: {gap_times}\")"
   ]
  },
  {
   "attachments": {},
   "cell_type": "markdown",
   "metadata": {},
   "source": [
    "Check if the timestamps in my gpx log got messed up from the change in timezone:"
   ]
  },
  {
   "cell_type": "code",
   "execution_count": 9,
   "metadata": {},
   "outputs": [
    {
     "name": "stdout",
     "output_type": "stream",
     "text": [
      "Fail: 0, Success: 4707\n"
     ]
    }
   ],
   "source": [
    "validate_timestamps.compare_trkpt(trkptlist1,verbose=False)"
   ]
  },
  {
   "attachments": {},
   "cell_type": "markdown",
   "metadata": {},
   "source": [
    "Now we want to identify the gap between Chewbacca rock and the Lottery Farm. This involves finding the index in trkptlist1 where the watch was paused and then unpaused."
   ]
  },
  {
   "cell_type": "code",
   "execution_count": 10,
   "metadata": {},
   "outputs": [
    {
     "name": "stdout",
     "output_type": "stream",
     "text": [
      "workingDir/Evening_Run-3.gpx gap: ('2024-01-28T20:42:29Z', '2024-01-28T20:49:50Z')\n",
      "workingDir/Evening_Run-3.gpx gap: ((51.483538, 5.652798), (51.481579, 5.654472))\n"
     ]
    }
   ],
   "source": [
    "gap_times = coordinate_utilities.find_gap(trkptlist=trkptlist1, mode=1)\n",
    "print(f\"{input_filename1} gap: {gap_times}\")\n",
    "out1 = coordinate_utilities.find_gap(trkptlist=trkptlist1, mode=2)\n",
    "print(f\"{input_filename1} gap: {out1}\")"
   ]
  },
  {
   "attachments": {},
   "cell_type": "markdown",
   "metadata": {},
   "source": [
    "Now find the point in trkptlist2 which is the closest to where the watch was unpaused (i.e. the unpausing timestamp in trkptlist1)"
   ]
  },
  {
   "cell_type": "code",
   "execution_count": 11,
   "metadata": {},
   "outputs": [
    {
     "name": "stdout",
     "output_type": "stream",
     "text": [
      "Index of unpausing in trkptlist1:  3954\n"
     ]
    }
   ],
   "source": [
    "ts = {'year': 2024, 'month': 1, 'day': 28, 'hour': 20, 'minute': 49, 'second': 50}\n",
    "index = splice_files.get_trackpoint_index_by_time(trkptlist1, ts) # this is the index of the gap of the lottery farm\n",
    "print(\"Index of unpausing in trkptlist1: \",index)"
   ]
  },
  {
   "cell_type": "code",
   "execution_count": 12,
   "metadata": {},
   "outputs": [
    {
     "name": "stdout",
     "output_type": "stream",
     "text": [
      "Finding closest point to:  (51.481579,5.654472)...\n",
      "Closest point in the list: (51.47958,5.65605) at index=400\n"
     ]
    }
   ],
   "source": [
    "# now find the point in trkptlist2 closest to the lottery farm\n",
    "out = coordinate_utilities.find_closest(trkptlist1[index],trkptlist2)\n",
    "\n",
    "trkptlist1_index = index # chebacca rock summit\n",
    "trkptlist2_index_start = 0 # chebacca rock summit\n",
    "trkptlist2_index_finish = out-1 #lottery farm"
   ]
  },
  {
   "attachments": {},
   "cell_type": "markdown",
   "metadata": {},
   "source": [
    "Splicing the files:"
   ]
  },
  {
   "cell_type": "code",
   "execution_count": 13,
   "metadata": {},
   "outputs": [],
   "source": [
    "trkptlist3 = splice_files.fix_pause_by_index(trkptlist1, trkptlist2, trkptlist1_index, trkptlist2_index_start, trkptlist2_index_finish)"
   ]
  },
  {
   "attachments": {},
   "cell_type": "markdown",
   "metadata": {},
   "source": [
    "Export the file:"
   ]
  },
  {
   "cell_type": "code",
   "execution_count": 14,
   "metadata": {},
   "outputs": [
    {
     "name": "stdout",
     "output_type": "stream",
     "text": [
      "Exporting file...\n",
      "File exported to outputDir/fixed.gpx\n"
     ]
    }
   ],
   "source": [
    "data_flags3 = {\n",
    "    'gpsflag':  True,\n",
    "    'timeflag': True,\n",
    "    'eleflag':  True,\n",
    "    'hrflag':   True, \n",
    "    'cadflag':  False, \n",
    "    'pwrflag':  False \n",
    "}\n",
    "fileIO.export_trackpoints(data_flags3, trkptlist3, output_filename1)"
   ]
  },
  {
   "cell_type": "code",
   "execution_count": null,
   "metadata": {},
   "outputs": [],
   "source": []
  }
 ],
 "metadata": {
  "kernelspec": {
   "display_name": "Python 3",
   "language": "python",
   "name": "python3"
  },
  "language_info": {
   "codemirror_mode": {
    "name": "ipython",
    "version": 3
   },
   "file_extension": ".py",
   "mimetype": "text/x-python",
   "name": "python",
   "nbconvert_exporter": "python",
   "pygments_lexer": "ipython3",
   "version": "3.11.6"
  },
  "orig_nbformat": 4
 },
 "nbformat": 4,
 "nbformat_minor": 2
}
