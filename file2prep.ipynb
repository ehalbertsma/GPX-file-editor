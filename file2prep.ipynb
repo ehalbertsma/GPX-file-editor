{
 "cells": [
  {
   "cell_type": "code",
   "execution_count": 1,
   "metadata": {},
   "outputs": [],
   "source": [
    "import fileIO\n",
    "import splice_files\n",
    "import validate_timestamps\n",
    "import coordinate_utilities\n",
    "import time_utilities\n",
    "\n",
    "from numpy import linspace\n",
    "from math import ceil"
   ]
  },
  {
   "cell_type": "code",
   "execution_count": 2,
   "metadata": {},
   "outputs": [],
   "source": [
    "# enter name and directory of input file\n",
    "input_filename1  = 'workingDir/suunto_gpx.gpx'\n",
    "input_filename2  = 'workingDir/beep2.gpx'\n",
    "\n",
    "# select data fields to import\n",
    "data_flags1 = {\n",
    "    'gpsflag':  True,\n",
    "    'timeflag': True,\n",
    "    'eleflag':  True,\n",
    "    'hrflag':   True, \n",
    "    'cadflag':  False, \n",
    "    'pwrflag':  False \n",
    "}\n",
    "data_flags2 = {\n",
    "    'gpsflag':  True,\n",
    "    'timeflag': False,\n",
    "    'eleflag':  True,\n",
    "    'hrflag':   False, \n",
    "    'cadflag':  False, \n",
    "    'pwrflag':  False \n",
    "}"
   ]
  },
  {
   "cell_type": "code",
   "execution_count": 18,
   "metadata": {},
   "outputs": [
    {
     "name": "stdout",
     "output_type": "stream",
     "text": [
      "14638 points imported from workingDir/suunto_gpx.gpx.\n",
      "81 points imported from workingDir/beep2.gpx.\n"
     ]
    }
   ],
   "source": [
    "trkptlist1, meta_data1 = fileIO.import_trackpoints(data_flags1, input_filename1,skip_metadata=True)\n",
    "trkptlist2, meta_data2 = fileIO.import_trackpoints(data_flags2, input_filename2,skip_metadata=True)\n",
    "trkptlist2 = trkptlist2[0:32]"
   ]
  },
  {
   "cell_type": "code",
   "execution_count": 19,
   "metadata": {},
   "outputs": [
    {
     "data": {
      "text/plain": [
       "821.948497128428"
      ]
     },
     "execution_count": 19,
     "metadata": {},
     "output_type": "execute_result"
    }
   ],
   "source": [
    "coordinate_utilities.compute_total_distance(trkptlist2)"
   ]
  },
  {
   "cell_type": "code",
   "execution_count": 20,
   "metadata": {},
   "outputs": [
    {
     "name": "stdout",
     "output_type": "stream",
     "text": [
      "[0, 5.401033252395345, 30.921036205594735, 23.170251538756595, 9.44394807646818, 6.907807726423372, 53.22104010876786, 73.05010501481162, 33.955174796408365, 23.36166931779411, 13.116158214681898, 11.680836967308244, 51.80035629827917, 38.33741197560211, 66.49037755009007, 6.671695598882477, 60.27703201884269, 21.542919293515148, 19.156698333923625, 6.984909668921348, 6.400566532904066, 18.410581071460705, 24.825607918175834, 4.924674866457135, 17.864977716410337, 8.857945192389515, 26.142097208922387, 26.820852298188132, 18.61807572899216, 82.45807717690616, 30.02263019391016, 1.1119492662446386]\n"
     ]
    }
   ],
   "source": [
    "# create list of the % of the distance between each node\n",
    "ds = coordinate_utilities.distance_per_segment(trkptlist2)\n",
    "print(ds)"
   ]
  },
  {
   "attachments": {},
   "cell_type": "markdown",
   "metadata": {},
   "source": [
    "Now define how many points need to be added between each node:"
   ]
  },
  {
   "cell_type": "code",
   "execution_count": 21,
   "metadata": {},
   "outputs": [
    {
     "name": "stdout",
     "output_type": "stream",
     "text": [
      "Original number of points: 32, new number of points: 399.\n",
      "Original distance: 821.948497128428, new distance: 821.9484971286606.\n"
     ]
    }
   ],
   "source": [
    "trkptlist2_dense = coordinate_utilities.add_interpolated_points(trkptlist2,data_flags2,400)"
   ]
  },
  {
   "attachments": {},
   "cell_type": "markdown",
   "metadata": {},
   "source": [
    "Interpolated points are successfully added when the distance is preserved but the length has increased."
   ]
  },
  {
   "attachments": {},
   "cell_type": "markdown",
   "metadata": {},
   "source": [
    "Generate timestamps for the missing GPX coordinates"
   ]
  },
  {
   "attachments": {},
   "cell_type": "markdown",
   "metadata": {},
   "source": [
    "Before splicing the files, let's fix the timestamps."
   ]
  },
  {
   "cell_type": "code",
   "execution_count": 38,
   "metadata": {},
   "outputs": [
    {
     "name": "stdout",
     "output_type": "stream",
     "text": [
      "400\n"
     ]
    }
   ],
   "source": [
    "ts1 = {'year': 2023, 'month': 12, 'day': 21, 'hour': 20, 'minute': 19, 'second': 00}\n",
    "ts2 = {'year': 2023, 'month': 12, 'day': 21, 'hour': 20, 'minute': 25, 'second': 39}\n",
    "gap_timestamps = time_utilities.generate_timepoints(ts1,ts2)\n",
    "# print(gap_timestamps)\n",
    "print(len(gap_timestamps))"
   ]
  },
  {
   "cell_type": "code",
   "execution_count": 39,
   "metadata": {},
   "outputs": [
    {
     "name": "stdout",
     "output_type": "stream",
     "text": [
      "Matching 400 timestamps to 399 GPS points.\n",
      "Timestamp start: 2023-12-21T20:19:00\n",
      "Timestamp end:   2023-12-21T20:25:39          \n",
      "\n",
      "Fail: 0, Success: 398\n"
     ]
    }
   ],
   "source": [
    "trkptlist2_dense = time_utilities.add_non_dummy_times(trkptlist2_dense,gap_timestamps)\n",
    "validate_timestamps.compare_trkpt(trkptlist2_dense)"
   ]
  },
  {
   "cell_type": "code",
   "execution_count": 40,
   "metadata": {},
   "outputs": [],
   "source": [
    "# one last check:\n",
    "for trkpt  in trkptlist2_dense:\n",
    "    if trkpt.hr == None:\n",
    "       trkpt.hr = 0 "
   ]
  },
  {
   "attachments": {},
   "cell_type": "markdown",
   "metadata": {},
   "source": [
    "Export the file:"
   ]
  },
  {
   "cell_type": "code",
   "execution_count": 43,
   "metadata": {},
   "outputs": [
    {
     "name": "stdout",
     "output_type": "stream",
     "text": [
      "Exporting file...\n",
      "File exported to outputDir/garbagio.gpx\n"
     ]
    }
   ],
   "source": [
    "data_flags3 = {\n",
    "    'gpsflag':  True,\n",
    "    'timeflag': True,\n",
    "    'eleflag':  True,\n",
    "    'hrflag':   True, \n",
    "    'cadflag':  False, \n",
    "    'pwrflag':  False \n",
    "}\n",
    "output_filename = \"outputDir/garbagio.gpx\"\n",
    "fileIO.export_trackpoints(data_flags3, trkptlist2_dense, output_filename)"
   ]
  },
  {
   "cell_type": "code",
   "execution_count": null,
   "metadata": {},
   "outputs": [],
   "source": []
  }
 ],
 "metadata": {
  "kernelspec": {
   "display_name": "Python 3",
   "language": "python",
   "name": "python3"
  },
  "language_info": {
   "codemirror_mode": {
    "name": "ipython",
    "version": 3
   },
   "file_extension": ".py",
   "mimetype": "text/x-python",
   "name": "python",
   "nbconvert_exporter": "python",
   "pygments_lexer": "ipython3",
   "version": "3.11.6"
  },
  "orig_nbformat": 4
 },
 "nbformat": 4,
 "nbformat_minor": 2
}
