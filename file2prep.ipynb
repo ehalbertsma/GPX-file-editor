{
 "cells": [
  {
   "cell_type": "code",
   "execution_count": 1,
   "metadata": {},
   "outputs": [],
   "source": [
    "import fileIO\n",
    "import splice_files\n",
    "import validate_timestamps\n",
    "import coordinate_utilities\n",
    "import time_utilities\n",
    "\n",
    "from numpy import linspace\n",
    "from math import ceil"
   ]
  },
  {
   "cell_type": "code",
   "execution_count": 2,
   "metadata": {},
   "outputs": [],
   "source": [
    "# enter name and directory of input file\n",
    "input_filename1  = 'workingDir/Evening_Run-3.gpx'\n",
    "input_filename2  = 'workingDir/fixed.gpx'\n",
    "\n",
    "# select data fields to import\n",
    "data_flags1 = {\n",
    "    'gpsflag':  True,\n",
    "    'timeflag': True,\n",
    "    'eleflag':  True,\n",
    "    'hrflag':   True, \n",
    "    'cadflag':  True, \n",
    "    'pwrflag':  False \n",
    "}\n",
    "data_flags2 = {\n",
    "    'gpsflag':  True,\n",
    "    'timeflag': False,\n",
    "    'eleflag':  True,\n",
    "    'hrflag':   False, \n",
    "    'cadflag':  False, \n",
    "    'pwrflag':  False \n",
    "}"
   ]
  },
  {
   "cell_type": "code",
   "execution_count": 41,
   "metadata": {},
   "outputs": [
    {
     "name": "stdout",
     "output_type": "stream",
     "text": [
      "4709 points imported from workingDir/Evening_Run-3.gpx.\n",
      "42 points imported from workingDir/fixed.gpx.\n"
     ]
    }
   ],
   "source": [
    "trkptlist1, meta_data1 = fileIO.import_trackpoints(data_flags1, input_filename1)\n",
    "trkptlist2, meta_data2 = fileIO.import_trackpoints(data_flags2, input_filename2)\n",
    "# trkptlist2 = trkptlist2[0:32]"
   ]
  },
  {
   "cell_type": "code",
   "execution_count": 4,
   "metadata": {},
   "outputs": [
    {
     "data": {
      "text/plain": [
       "1294.632330857942"
      ]
     },
     "execution_count": 4,
     "metadata": {},
     "output_type": "execute_result"
    }
   ],
   "source": [
    "coordinate_utilities.compute_total_distance(trkptlist2)"
   ]
  },
  {
   "cell_type": "code",
   "execution_count": 5,
   "metadata": {},
   "outputs": [
    {
     "name": "stdout",
     "output_type": "stream",
     "text": [
      "[0, 40.05412112931128, 8.88013232438261, 6.987608313128178, 26.722690932340655, 76.1968438084338, 76.19685017303617, 9.00275400858043, 10.00754339726273, 10.220881749186274, 36.70085897809486, 38.92438433775824, 9.002758400100863, 12.917848824413333, 76.73700059446374, 76.73699642569377, 6.987664922622082, 45.61095278108336, 8.056125384526176, 76.19685859279464, 76.19684636766145, 32.54858776992454, 54.489914988284234, 13.415084349555906, 2.223898532489277, 9.316931889253283, 4.847733219893406, 1.111949265890977, 50.66489758273937, 64.87665031360292, 85.76111476641671, 8.261894168646503, 1.3850772628238346, 15.04070377091601, 34.809638605022904, 1.111949265890977, 51.61635347191471, 27.90114778306853, 30.10952564608945, 41.61154604411767, 5.969839686921907, 29.22017102960451]\n"
     ]
    }
   ],
   "source": [
    "# create list of the % of the distance between each node\n",
    "ds = coordinate_utilities.distance_per_segment(trkptlist2)\n",
    "print(ds) # meters between each trkpt"
   ]
  },
  {
   "attachments": {},
   "cell_type": "markdown",
   "metadata": {},
   "source": [
    "Now define how many points need to be added between each node:"
   ]
  },
  {
   "cell_type": "code",
   "execution_count": 33,
   "metadata": {},
   "outputs": [
    {
     "name": "stdout",
     "output_type": "stream",
     "text": [
      "Original number of points: 42, new number of points: 401.\n",
      "Original distance: 1294.632330857942, new distance: 1294.6323308599378.\n"
     ]
    }
   ],
   "source": [
    "trkptlist2_dense = coordinate_utilities.add_interpolated_points(trkptlist2,data_flags2,400)"
   ]
  },
  {
   "attachments": {},
   "cell_type": "markdown",
   "metadata": {},
   "source": [
    "Interpolated points are successfully added when the distance is preserved but the length has increased."
   ]
  },
  {
   "attachments": {},
   "cell_type": "markdown",
   "metadata": {},
   "source": [
    "## Generate timestamps for the missing GPX coordinates\n",
    "First we need to identify the timestamps where the watch got paused"
   ]
  },
  {
   "cell_type": "code",
   "execution_count": 7,
   "metadata": {},
   "outputs": [
    {
     "data": {
      "text/plain": [
       "('2024-01-28T20:42:29Z', '2024-01-28T20:49:50Z')"
      ]
     },
     "execution_count": 7,
     "metadata": {},
     "output_type": "execute_result"
    }
   ],
   "source": [
    "coordinate_utilities.find_gap(trkptlist1, mode=1,epsilon=0.01)"
   ]
  },
  {
   "attachments": {},
   "cell_type": "markdown",
   "metadata": {},
   "source": [
    "Before splicing the files, let's fix the timestamps."
   ]
  },
  {
   "cell_type": "code",
   "execution_count": 37,
   "metadata": {},
   "outputs": [
    {
     "name": "stdout",
     "output_type": "stream",
     "text": [
      "401\n"
     ]
    }
   ],
   "source": [
    "ts1 = {'year': 2024, 'month': 1, 'day': 28, 'hour': 20, 'minute': 43, 'second': 9}\n",
    "ts2 = {'year': 2024, 'month': 1, 'day': 28, 'hour': 20, 'minute': 49, 'second': 49}\n",
    "gap_timestamps = time_utilities.generate_timepoints(ts1,ts2)\n",
    "# print(gap_timestamps)\n",
    "print(len(gap_timestamps))"
   ]
  },
  {
   "cell_type": "markdown",
   "metadata": {},
   "source": [
    "Give the trkptlist2_dense the desired timestamps:"
   ]
  },
  {
   "cell_type": "code",
   "execution_count": 38,
   "metadata": {},
   "outputs": [
    {
     "name": "stdout",
     "output_type": "stream",
     "text": [
      "Matching 401 timestamps to 401 GPS points.\n",
      "Timestamp start: 2024-01-28T20:43:09\n",
      "Timestamp end:   2024-01-28T20:49:49          \n",
      "\n",
      "Fail: 0, Success: 399\n"
     ]
    }
   ],
   "source": [
    "trkptlist2_dense2 = time_utilities.add_non_dummy_times(trkptlist2_dense,gap_timestamps)\n",
    "validate_timestamps.compare_trkpt(trkptlist2_dense2,verbose=False)"
   ]
  },
  {
   "cell_type": "code",
   "execution_count": 39,
   "metadata": {},
   "outputs": [],
   "source": [
    "# one last check:\n",
    "for trkpt  in trkptlist2_dense:\n",
    "    if trkpt.hr == None:\n",
    "       trkpt.hr = 0 "
   ]
  },
  {
   "attachments": {},
   "cell_type": "markdown",
   "metadata": {},
   "source": [
    "Export the file:"
   ]
  },
  {
   "cell_type": "code",
   "execution_count": 40,
   "metadata": {},
   "outputs": [
    {
     "name": "stdout",
     "output_type": "stream",
     "text": [
      "Exporting file...\n",
      "File exported to outputDir/garbagio.gpx\n"
     ]
    }
   ],
   "source": [
    "data_flags3 = {\n",
    "    'gpsflag':  True,\n",
    "    'timeflag': True,\n",
    "    'eleflag':  True,\n",
    "    'hrflag':   True, \n",
    "    'cadflag':  False, \n",
    "    'pwrflag':  False \n",
    "}\n",
    "output_filename = \"outputDir/garbagio.gpx\"\n",
    "fileIO.export_trackpoints(data_flags3, trkptlist2_dense, output_filename)"
   ]
  },
  {
   "cell_type": "code",
   "execution_count": null,
   "metadata": {},
   "outputs": [],
   "source": []
  }
 ],
 "metadata": {
  "kernelspec": {
   "display_name": "Python 3",
   "language": "python",
   "name": "python3"
  },
  "language_info": {
   "codemirror_mode": {
    "name": "ipython",
    "version": 3
   },
   "file_extension": ".py",
   "mimetype": "text/x-python",
   "name": "python",
   "nbconvert_exporter": "python",
   "pygments_lexer": "ipython3",
   "version": "3.11.6"
  },
  "orig_nbformat": 4
 },
 "nbformat": 4,
 "nbformat_minor": 2
}
